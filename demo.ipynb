{
 "cells": [
  {
   "cell_type": "code",
   "execution_count": 1,
   "metadata": {},
   "outputs": [],
   "source": [
    "import requests\n",
    "import json\n",
    "def chat(prompt,history):\n",
    "    url='http://region-31.seetacloud.com:21450/' #记得更改服务器地址\n",
    "    data = {'prompt': prompt,'history':history}\n",
    "    response=requests.post(url, data=json.dumps(data))\n",
    "    return response.json()['response'],response.json()['history']"
   ]
  },
  {
   "cell_type": "code",
   "execution_count": 2,
   "metadata": {},
   "outputs": [],
   "source": [
    "import requests\n",
    "import json\n",
    "def get_intitude(sentence,history):\n",
    "    url='http://region-31.seetacloud.com:21450/' #记得更改服务器地址\n",
    "    data = {'sentence': sentence}\n",
    "    index_response=requests.get(url, data=json.dumps(data))\n",
    "    index=index_response.json()['response']\n",
    "    result={}\n",
    "    result['response']=None\n",
    "    result['history']=None\n",
    "    result['index']=None\n",
    "    if index in ['5','6','7','8','9','10']:\n",
    "        chat_response,chat_history=chat(sentence,history)\n",
    "        result['response']=chat_response\n",
    "        result['history']=chat_history\n",
    "    result['index']=index\n",
    "    return result\n",
    "    "
   ]
  },
  {
   "cell_type": "code",
   "execution_count": 3,
   "metadata": {},
   "outputs": [],
   "source": [
    "history=[]"
   ]
  },
  {
   "cell_type": "code",
   "execution_count": 5,
   "metadata": {},
   "outputs": [
    {
     "name": "stdout",
     "output_type": "stream",
     "text": [
      "{'response': None, 'history': None, 'index': '0'}\n"
     ]
    }
   ],
   "source": [
    "user_speak_text='你好' #可以随便更改测试\n",
    "#user_speak_text='向前走'\n",
    "result=get_intitude(user_speak_text,history)\n",
    "history=result['history']\n",
    "print(result)"
   ]
  }
 ],
 "metadata": {
  "kernelspec": {
   "display_name": "spider",
   "language": "python",
   "name": "python3"
  },
  "language_info": {
   "codemirror_mode": {
    "name": "ipython",
    "version": 3
   },
   "file_extension": ".py",
   "mimetype": "text/x-python",
   "name": "python",
   "nbconvert_exporter": "python",
   "pygments_lexer": "ipython3",
   "version": "3.7.0"
  },
  "orig_nbformat": 4
 },
 "nbformat": 4,
 "nbformat_minor": 2
}
